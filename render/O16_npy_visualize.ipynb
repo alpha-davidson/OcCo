{
 "cells": [
  {
   "cell_type": "code",
   "execution_count": 1,
   "id": "ccef9c17-ce5c-4317-b8f5-0cf0558d3a26",
   "metadata": {},
   "outputs": [],
   "source": [
    "import matplotlib.pyplot as plt, numpy as np"
   ]
  },
  {
   "cell_type": "code",
   "execution_count": 2,
   "id": "da6c1173-1f1f-49c2-ac80-4a7637f52299",
   "metadata": {},
   "outputs": [],
   "source": [
    "COMPLETE_PATH = 'OcCo_TF/data/O16/occluded/train_complete.npy'\n",
    "OCCLUDED_PATH = 'OcCo_TF/data/O16/occluded/train_occluded.npy'"
   ]
  },
  {
   "cell_type": "code",
   "execution_count": 3,
   "id": "09540d02-78dc-42cc-8706-8c02eecf4b79",
   "metadata": {},
   "outputs": [
    {
     "ename": "FileNotFoundError",
     "evalue": "[Errno 2] No such file or directory: 'OcCo_TF/data/O16/occluded/train_complete.npy'",
     "output_type": "error",
     "traceback": [
      "\u001b[0;31m---------------------------------------------------------------------------\u001b[0m",
      "\u001b[0;31mFileNotFoundError\u001b[0m                         Traceback (most recent call last)",
      "Cell \u001b[0;32mIn[3], line 1\u001b[0m\n\u001b[0;32m----> 1\u001b[0m complete_clouds \u001b[38;5;241m=\u001b[39m np\u001b[38;5;241m.\u001b[39mload(COMPLETE_PATH, mmap_mode\u001b[38;5;241m=\u001b[39m\u001b[38;5;124m'\u001b[39m\u001b[38;5;124mr\u001b[39m\u001b[38;5;124m'\u001b[39m)\n\u001b[1;32m      2\u001b[0m occluded_clouds \u001b[38;5;241m=\u001b[39m np\u001b[38;5;241m.\u001b[39mload(OCCLUDED_PATH, mmap_mode\u001b[38;5;241m=\u001b[39m\u001b[38;5;124m'\u001b[39m\u001b[38;5;124mr\u001b[39m\u001b[38;5;124m'\u001b[39m)\n\u001b[1;32m      3\u001b[0m \u001b[38;5;28mprint\u001b[39m(\u001b[38;5;28mstr\u001b[39m(complete_clouds\u001b[38;5;241m.\u001b[39mshape[\u001b[38;5;241m0\u001b[39m]) \u001b[38;5;241m+\u001b[39m \u001b[38;5;124m'\u001b[39m\u001b[38;5;124m complete clouds, each with \u001b[39m\u001b[38;5;124m'\u001b[39m \u001b[38;5;241m+\u001b[39m \u001b[38;5;28mstr\u001b[39m(complete_clouds\u001b[38;5;241m.\u001b[39mshape[\u001b[38;5;241m1\u001b[39m]) \u001b[38;5;241m+\u001b[39m \u001b[38;5;124m'\u001b[39m\u001b[38;5;124m points.\u001b[39m\u001b[38;5;124m'\u001b[39m)\n",
      "File \u001b[0;32m~/.conda/envs/occo-data/lib/python3.11/site-packages/numpy/lib/npyio.py:427\u001b[0m, in \u001b[0;36mload\u001b[0;34m(file, mmap_mode, allow_pickle, fix_imports, encoding, max_header_size)\u001b[0m\n\u001b[1;32m    425\u001b[0m     own_fid \u001b[38;5;241m=\u001b[39m \u001b[38;5;28;01mFalse\u001b[39;00m\n\u001b[1;32m    426\u001b[0m \u001b[38;5;28;01melse\u001b[39;00m:\n\u001b[0;32m--> 427\u001b[0m     fid \u001b[38;5;241m=\u001b[39m stack\u001b[38;5;241m.\u001b[39menter_context(\u001b[38;5;28mopen\u001b[39m(os_fspath(file), \u001b[38;5;124m\"\u001b[39m\u001b[38;5;124mrb\u001b[39m\u001b[38;5;124m\"\u001b[39m))\n\u001b[1;32m    428\u001b[0m     own_fid \u001b[38;5;241m=\u001b[39m \u001b[38;5;28;01mTrue\u001b[39;00m\n\u001b[1;32m    430\u001b[0m \u001b[38;5;66;03m# Code to distinguish from NumPy binary files and pickles.\u001b[39;00m\n",
      "\u001b[0;31mFileNotFoundError\u001b[0m: [Errno 2] No such file or directory: 'OcCo_TF/data/O16/occluded/train_complete.npy'"
     ]
    }
   ],
   "source": [
    "complete_clouds = np.load(COMPLETE_PATH, mmap_mode='r')\n",
    "occluded_clouds = np.load(OCCLUDED_PATH, mmap_mode='r')\n",
    "print(str(complete_clouds.shape[0]) + ' complete clouds, each with ' + str(complete_clouds.shape[1]) + ' points.')\n",
    "print(str(occluded_clouds.shape[1]) + ' occlusions per complete cloud, each with ' + str(occluded_clouds.shape[2]) + ' points.')"
   ]
  },
  {
   "cell_type": "code",
   "execution_count": null,
   "id": "cb23092c-e65c-4b4e-aec3-562c434f381e",
   "metadata": {},
   "outputs": [],
   "source": [
    "def comparePointClouds(index, snapshot):\n",
    "    fig = plt.figure()\n",
    "    ax_1 = fig.add_subplot(1, 2, 1, projection='3d')\n",
    "    ax_2 = fig.add_subplot(1, 2, 2, projection='3d')\n",
    "    for axis in [ax_1, ax_2]:\n",
    "        axis.axes.set_xlim3d(left=-300, right=300)\n",
    "        axis.axes.set_ylim3d(bottom=-200, top=1200)\n",
    "        axis.axes.set_zlim3d(bottom=-300, top=300)\n",
    "        axis.set_xlabel('X Values')\n",
    "        axis.set_ylabel('Z Values')\n",
    "        axis.set_zlabel('Y Values')\n",
    "    ax_1.scatter(complete_clouds[index][:,0], complete_clouds[index][:,2], complete_clouds[index][:,1], s=2)\n",
    "    ax_2.scatter(occluded_clouds[index][snapshot][:,0], occluded_clouds[index][snapshot][:,2], occluded_clouds[index][snapshot][:,1],s=2)\n",
    "    plt.show()"
   ]
  },
  {
   "cell_type": "code",
   "execution_count": null,
   "id": "583b9bd4-2081-4b32-baff-402e2f34543c",
   "metadata": {},
   "outputs": [],
   "source": [
    "EXAMPLES = 100"
   ]
  },
  {
   "cell_type": "code",
   "execution_count": null,
   "id": "6b299799-50b5-40a4-ac0e-eb9fa0c0e547",
   "metadata": {},
   "outputs": [],
   "source": [
    "for i in range(EXAMPLES):\n",
    "    index = np.random.randint(complete_clouds.shape[0])\n",
    "    snapshot = np.random.randint(occluded_clouds.shape[1])\n",
    "    comparePointClouds(index, snapshot)"
   ]
  },
  {
   "cell_type": "code",
   "execution_count": null,
   "id": "65c8a3ec-e33d-4aa1-a88c-0d26dfd120d7",
   "metadata": {},
   "outputs": [],
   "source": []
  }
 ],
 "metadata": {
  "kernelspec": {
   "display_name": "data-kernel",
   "language": "python",
   "name": "data-kernel"
  },
  "language_info": {
   "codemirror_mode": {
    "name": "ipython",
    "version": 3
   },
   "file_extension": ".py",
   "mimetype": "text/x-python",
   "name": "python",
   "nbconvert_exporter": "python",
   "pygments_lexer": "ipython3",
   "version": "3.11.9"
  }
 },
 "nbformat": 4,
 "nbformat_minor": 5
}
