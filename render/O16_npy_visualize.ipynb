{
 "cells": [
  {
   "cell_type": "code",
   "execution_count": null,
   "id": "ccef9c17-ce5c-4317-b8f5-0cf0558d3a26",
   "metadata": {},
   "outputs": [],
   "source": [
    "import matplotlib.pyplot as plt, numpy as np"
   ]
  },
  {
   "cell_type": "code",
   "execution_count": null,
   "id": "da6c1173-1f1f-49c2-ac80-4a7637f52299",
   "metadata": {},
   "outputs": [],
   "source": [
    "COMPLETE_PATH = '../data/O16/occluded/train_complete.npy'\n",
    "OCCLUDED_PATH = '../data/O16/occluded/train_occluded.npy'"
   ]
  },
  {
   "cell_type": "code",
   "execution_count": null,
   "id": "09540d02-78dc-42cc-8706-8c02eecf4b79",
   "metadata": {
    "scrolled": true
   },
   "outputs": [],
   "source": [
    "complete_clouds = np.load(COMPLETE_PATH, mmap_mode='r')\n",
    "occluded_clouds = np.load(OCCLUDED_PATH, mmap_mode='r')\n",
    "print(str(complete_clouds.shape[0]) + ' complete clouds, each with ' + str(complete_clouds.shape[1]) + ' points.')\n",
    "print(str(occluded_clouds.shape[1]) + ' occlusions per complete cloud, each with ' + str(occluded_clouds.shape[2]) + ' points.')"
   ]
  },
  {
   "cell_type": "code",
   "execution_count": null,
   "id": "756e5928-dc38-4d57-a7d0-71256f239f46",
   "metadata": {},
   "outputs": [],
   "source": [
    "def scalePointCloud(points):\n",
    "    points[:,0] = points[:,0] * 250\n",
    "    points[:,1] = points[:,1] * 250\n",
    "    points[:,2] = (points[:,2] + 1) * 500\n",
    "    return points"
   ]
  },
  {
   "cell_type": "code",
   "execution_count": null,
   "id": "cb23092c-e65c-4b4e-aec3-562c434f381e",
   "metadata": {},
   "outputs": [],
   "source": [
    "def comparePointClouds(complete, occluded):\n",
    "    fig = plt.figure()\n",
    "    ax_1 = fig.add_subplot(1, 2, 1, projection='3d')\n",
    "    ax_2 = fig.add_subplot(1, 2, 2, projection='3d')\n",
    "    new_complete = scalePointCloud(complete)\n",
    "    new_occluded = scalePointCloud(occluded)\n",
    "    for axis in [ax_1, ax_2]:\n",
    "        axis.axes.set_xlim3d(left=-250, right=250)\n",
    "        axis.axes.set_ylim3d(bottom=0, top=1000)\n",
    "        axis.axes.set_zlim3d(bottom=-250, top=250)\n",
    "        axis.set_xlabel('X')\n",
    "        axis.set_ylabel('Z')\n",
    "        axis.set_zlabel('Y')\n",
    "        axis.zaxis.labelpad = 0\n",
    "    ax_1.set_title('Complete')\n",
    "    ax_1.scatter(complete[:,0], complete[:,2], complete[:,1], s=2)\n",
    "    ax_2.set_title('Occluded')\n",
    "    ax_2.scatter(occluded[:,0], occluded[:,2], occluded[:,1], s=2)\n",
    "    plt.tight_layout(rect=[0, 0, 2, 1])\n",
    "    plt.show()"
   ]
  },
  {
   "cell_type": "code",
   "execution_count": null,
   "id": "583b9bd4-2081-4b32-baff-402e2f34543c",
   "metadata": {},
   "outputs": [],
   "source": [
    "EXAMPLES = 100"
   ]
  },
  {
   "cell_type": "code",
   "execution_count": null,
   "id": "6b299799-50b5-40a4-ac0e-eb9fa0c0e547",
   "metadata": {},
   "outputs": [],
   "source": [
    "for i in range(EXAMPLES):\n",
    "    index = np.random.randint(complete_clouds.shape[0])\n",
    "    snapshot = np.random.randint(occluded_clouds.shape[1])\n",
    "    complete_points = np.copy(complete_clouds[index])\n",
    "    occluded_points = np.copy(occluded_clouds[index][snapshot])\n",
    "    comparePointClouds(complete_points, occluded_points)"
   ]
  },
  {
   "cell_type": "code",
   "execution_count": null,
   "id": "b8a3bf5d-0295-4cd5-b6f6-2205adf57115",
   "metadata": {},
   "outputs": [],
   "source": []
  }
 ],
 "metadata": {
  "kernelspec": {
   "display_name": "data-kernel",
   "language": "python",
   "name": "data-kernel"
  },
  "language_info": {
   "codemirror_mode": {
    "name": "ipython",
    "version": 3
   },
   "file_extension": ".py",
   "mimetype": "text/x-python",
   "name": "python",
   "nbconvert_exporter": "python",
   "pygments_lexer": "ipython3",
   "version": "3.11.9"
  }
 },
 "nbformat": 4,
 "nbformat_minor": 5
}
